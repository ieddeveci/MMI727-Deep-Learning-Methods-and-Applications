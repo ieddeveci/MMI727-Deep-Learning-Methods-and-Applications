{
 "cells": [
  {
   "cell_type": "markdown",
   "metadata": {},
   "source": [
    "A two-layer fully connected autoencoder on MNIST handwritten digits dataset, using numpy only"
   ]
  },
  {
   "cell_type": "code",
   "execution_count": 15,
   "metadata": {},
   "outputs": [],
   "source": [
    "import numpy as np\n",
    "import matplotlib.pyplot as plt\n",
    "import torchvision"
   ]
  },
  {
   "cell_type": "markdown",
   "metadata": {},
   "source": [
    "Loading dataset"
   ]
  },
  {
   "cell_type": "code",
   "execution_count": 16,
   "metadata": {},
   "outputs": [],
   "source": [
    "def load_dataset():\n",
    "\n",
    "    mnist = torchvision.datasets.MNIST('./', train=True, download=True)\n",
    "\n",
    "    X = np.zeros((len(mnist), 784))\n",
    "    for n in range(len(mnist)):\n",
    "        X[n] = np.array(mnist[n][0]).reshape(-1)\n",
    "    return X\n",
    "\n",
    "X = load_dataset() / 255"
   ]
  },
  {
   "cell_type": "code",
   "execution_count": null,
   "metadata": {},
   "outputs": [],
   "source": [
    "plt.imshow(X[0].reshape(28,28))\n",
    "plt.show()"
   ]
  },
  {
   "cell_type": "markdown",
   "metadata": {},
   "source": [
    "Randomly initialize layer 1 and layer 2 weights as 2D numpy arrays with zero mean and 0.01 standard deviation. For simplicity, biases are omitted."
   ]
  },
  {
   "cell_type": "code",
   "execution_count": 18,
   "metadata": {},
   "outputs": [],
   "source": [
    "INPUT_SIZE  = X.shape[1]\n",
    "HIDDEN_SIZE = 64\n",
    "\n",
    "w1 = np.random.normal(0, 0.01, (INPUT_SIZE, HIDDEN_SIZE))\n",
    "w2 = np.random.normal(0, 0.01, (HIDDEN_SIZE, INPUT_SIZE))"
   ]
  },
  {
   "cell_type": "markdown",
   "metadata": {},
   "source": [
    "Relu and sigmoid activation functions in forward and backward modes.\n",
    "Computing mean squared error metric, given outputs and targets."
   ]
  },
  {
   "cell_type": "code",
   "execution_count": 19,
   "metadata": {},
   "outputs": [],
   "source": [
    "def relu(x):\n",
    "    return np.maximum(0, x)\n",
    "\n",
    "def sigmoid(x):\n",
    "    return 1 / (1 + np.exp(-x))\n",
    "\n",
    "def relu_backward(D_output, output):\n",
    "    return D_output * (output > 0)\n",
    "\n",
    "def sigmoid_backward(D_output, output):\n",
    "    return D_output * output * (1 - output)\n",
    "\n",
    "def mean_squared_error(outputs, targets):\n",
    "    squared_errors = (outputs - targets) ** 2\n",
    "    return np.mean(squared_errors)"
   ]
  },
  {
   "cell_type": "markdown",
   "metadata": {},
   "source": [
    "Hyperparameters"
   ]
  },
  {
   "cell_type": "code",
   "execution_count": 20,
   "metadata": {},
   "outputs": [],
   "source": [
    "BATCH_SIZE = 1024\n",
    "NUM_EPOCHS = 10\n",
    "LEARNING_RATE = 0.0001\n",
    "NUM_TRAINING_INSTANCES = X.shape[0]\n",
    "ITERATIONS_PER_EPOCH = NUM_TRAINING_INSTANCES // BATCH_SIZE"
   ]
  },
  {
   "cell_type": "markdown",
   "metadata": {},
   "source": [
    "Training"
   ]
  },
  {
   "cell_type": "code",
   "execution_count": null,
   "metadata": {},
   "outputs": [],
   "source": [
    "for epoch in range(NUM_EPOCHS): \n",
    "    for n in range(ITERATIONS_PER_EPOCH):\n",
    "        \n",
    "        batch_indices = range(n*BATCH_SIZE, n*BATCH_SIZE + BATCH_SIZE)   \n",
    "        X_batch = X[batch_indices]\n",
    "        \n",
    "        h1 = np.dot(X_batch, w1)\n",
    "        o1 = relu(h1)\n",
    "        \n",
    "        h2 = np.dot(o1, w2)\n",
    "        o2 = sigmoid(h2)\n",
    "        \n",
    "        loss = mean_squared_error(o2, X_batch)\n",
    "        \n",
    "        print('Epoch %d, Iteration %d -- Loss: %.6f' % (epoch + 1, epoch * ITERATIONS_PER_EPOCH + n, loss))\n",
    "        \n",
    "        D_o2 = 2 * (o2 - X_batch)\n",
    "        \n",
    "        D_h2 = sigmoid_backward(D_o2, o2)\n",
    "        \n",
    "        D_o1 = np.dot(D_h2, w2.T)\n",
    "        D_w2 = np.dot(o1.T, D_h2)\n",
    "        \n",
    "        D_h1 = relu_backward(D_o1, o1)\n",
    "        \n",
    "        D_w1 = np.dot(X_batch.T, D_h1)\n",
    "        \n",
    "    \n",
    "        w1 -= D_w1 * LEARNING_RATE\n",
    "        w2 -= D_w2 * LEARNING_RATE\n",
    "        \n",
    "        if n % 10 == 0:\n",
    "            plt.figure()\n",
    "            plt.title('Original %d dimensional image' % INPUT_SIZE)\n",
    "            plt.imshow(X_batch[0].reshape(28, 28)); plt.show()\n",
    "            \n",
    "            plt.figure()\n",
    "            plt.title('Reconstruction from %d dimensional representation' % HIDDEN_SIZE)\n",
    "            plt.imshow(o2[0].reshape(28, 28)); plt.show()"
   ]
  }
 ],
 "metadata": {
  "kernelspec": {
   "display_name": "Python 3",
   "language": "python",
   "name": "python3"
  },
  "language_info": {
   "codemirror_mode": {
    "name": "ipython",
    "version": 3
   },
   "file_extension": ".py",
   "mimetype": "text/x-python",
   "name": "python",
   "nbconvert_exporter": "python",
   "pygments_lexer": "ipython3",
   "version": "3.9.13"
  }
 },
 "nbformat": 4,
 "nbformat_minor": 2
}
