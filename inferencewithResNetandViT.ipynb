{
 "cells": [
  {
   "cell_type": "code",
   "execution_count": null,
   "metadata": {},
   "outputs": [],
   "source": [
    "import torch\n",
    "import torchvision\n",
    "from torch.utils.data import DataLoader\n",
    "import matplotlib.pyplot as plt\n",
    "from torchvision import models\n",
    "import os\n",
    "import numpy as np"
   ]
  },
  {
   "cell_type": "code",
   "execution_count": null,
   "metadata": {},
   "outputs": [],
   "source": [
    "# Uncomment the line corresponding to the desired model (ResNet50 or ViT-B/16)\n",
    "\n",
    "# neuralnet = models.resnet50(pretrained=True)\n",
    "# neuralnet = models.vit_b_16(weights='IMAGENET1K_V1')\n",
    "\n",
    "neuralnet = neuralnet.to('cuda')\n",
    "neuralnet.eval() "
   ]
  },
  {
   "cell_type": "code",
   "execution_count": null,
   "metadata": {},
   "outputs": [],
   "source": [
    "transform = torchvision.transforms.Compose([\n",
    "    torchvision.transforms.Resize(256), \n",
    "    torchvision.transforms.CenterCrop(224),\n",
    "    torchvision.transforms.ToTensor(),\n",
    "    torchvision.transforms.Normalize(mean=[0.485, 0.456, 0.406], std=[0.229, 0.224, 0.225])\n",
    "])"
   ]
  },
  {
   "cell_type": "code",
   "execution_count": null,
   "metadata": {},
   "outputs": [],
   "source": [
    "test_dataset = torchvision.datasets.ImageFolder(root=\"add_test_set_path_here\", transform=transform)\n",
    "\n",
    "def torch_imshow(img):\n",
    "    mean = torch.tensor([0.485, 0.456, 0.406], device=img.device)\n",
    "    std = torch.tensor([0.229, 0.224, 0.225], device=img.device)\n",
    "    img = img.permute(1, 2, 0)\n",
    "    img = img * std + mean    \n",
    "    img = torch.clamp(img, 0, 1)\n",
    "    plt.imshow(img.cpu().numpy())\n",
    "    plt.show()\n",
    "\n",
    "cat_img, cat_label = test_dataset[1]\n",
    "torch_imshow(cat_img)\n",
    "print(f'Label for cat: {cat_label} - {test_dataset.classes[cat_label]}')\n",
    "\n",
    "dog_img, dog_label = test_dataset[-1]\n",
    "torch_imshow(dog_img)\n",
    "print(f'Label for dog: {dog_label} - {test_dataset.classes[dog_label]}')"
   ]
  },
  {
   "cell_type": "code",
   "execution_count": null,
   "metadata": {},
   "outputs": [],
   "source": [
    "test_dataloader = torch.utils.data.DataLoader(test_dataset, batch_size=1, shuffle=False)"
   ]
  },
  {
   "cell_type": "code",
   "execution_count": null,
   "metadata": {},
   "outputs": [],
   "source": [
    "# Class indices 281-293 are considered correct for label 0 (e.g., \"Cat\").\n",
    "# Class indices 151-280 are considered correct for label 1 (e.g., \"Dog\").\n",
    "\n",
    "def visual_accuracy(neuralnet, dataloader):\n",
    "    \n",
    "    true_prediction = 0\n",
    "    total_prediction = 0\n",
    "\n",
    "    device = next(neuralnet.parameters()).device\n",
    "    \n",
    "    with torch.no_grad():\n",
    "        for images, labels in dataloader:\n",
    "            images, labels = images.to(device), labels.to(device)\n",
    "            outputs = neuralnet(images)\n",
    "            _, predicted = torch.max(outputs, 1)\n",
    "            total_prediction += labels.size(0)\n",
    "\n",
    "            for i in range(images.size(0)):\n",
    "                true_label = labels[i].item()\n",
    "                pred_class = predicted[i].item()\n",
    "\n",
    "                if (281 <= pred_class <= 293 and true_label == 0) or (151 <= pred_class <= 280 and true_label == 1):\n",
    "                    true_prediction += 1\n",
    "\n",
    "                img = images[i].cpu().numpy().transpose(1, 2, 0)\n",
    "                img = img * np.array([0.229, 0.224, 0.225]) + np.array([0.485, 0.456, 0.406])\n",
    "                prob = torch.nn.functional.softmax(outputs, dim=1)[i].cpu().numpy()\n",
    "\n",
    "                plt.figure(figsize=(5, 5))\n",
    "                plt.imshow(img)\n",
    "                plt.title(\n",
    "                    f\"Pred: {pred_class}, True: {'Cat' if(true_label == 0) else 'Dog'}\\n\"\n",
    "                    f\"Prob: {prob[pred_class]:.2f}\\n\"\n",
    "                    f\"Prediction: {'Correct' if (281 <= pred_class <= 293 and true_label == 0) or (151 <= pred_class <= 280 and true_label == 1) else 'Incorrect'}\"\n",
    "                )\n",
    "                plt.axis('off')\n",
    "                plt.show()\n",
    "\n",
    "    accuracy = true_prediction / total_prediction\n",
    "    return accuracy\n",
    "\n",
    "accuracy = visual_accuracy(neuralnet, test_dataloader)\n",
    "print(f\"Test Accuracy: {accuracy * 100:.2f}%\")"
   ]
  }
 ],
 "metadata": {
  "language_info": {
   "name": "python"
  }
 },
 "nbformat": 4,
 "nbformat_minor": 2
}
